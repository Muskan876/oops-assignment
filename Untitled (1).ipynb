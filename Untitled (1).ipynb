{
 "cells": [
  {
   "cell_type": "markdown",
   "id": "d42cff6f-80a6-412e-9f84-d99d55bb9464",
   "metadata": {},
   "source": [
    "Q1 "
   ]
  },
  {
   "cell_type": "code",
   "execution_count": 1,
   "id": "90025051-af52-414e-ba25-f47532ba5899",
   "metadata": {},
   "outputs": [],
   "source": [
    "#Answer\n",
    "#In object oriented programing (oops), a class is a blueprint or template that defines the structure and behaviour of objects.\n",
    "#it encapsulates data and methord that operate on data. An object on the other hand, is an instance of a class. its represents\n",
    "#a specific entry or concept and holds its own unique set of data and can perform actions using the methords defined on its class.\n",
    "\n",
    "\n",
    "# define a class\n",
    "class Bike:\n",
    "    name = \"\"\n",
    "    gear = 0\n",
    "\n",
    "# create object of class\n",
    "bike1 = Bike()\n",
    "\n",
    "# access attributes and assign new values\n",
    "bike1.gear = 11\n",
    "bike1.name = \"Mountain Bike\"\n"
   ]
  },
  {
   "cell_type": "code",
   "execution_count": 2,
   "id": "f5e2b66e-4b9f-41c1-b2d7-111643f157f6",
   "metadata": {},
   "outputs": [
    {
     "name": "stdout",
     "output_type": "stream",
     "text": [
      "Name: Mountain Bike, Gears: 11 \n"
     ]
    }
   ],
   "source": [
    "print(f\"Name: {bike1.name}, Gears: {bike1.gear} \")"
   ]
  },
  {
   "cell_type": "raw",
   "id": "c153f712-8cda-467d-a71a-ecece5f11fd5",
   "metadata": {},
   "source": [
    "Q2"
   ]
  },
  {
   "cell_type": "code",
   "execution_count": 4,
   "id": "0382a63c-f4b6-4317-a051-da3a8b4abfe9",
   "metadata": {},
   "outputs": [],
   "source": [
    "#Answer\n",
    "# Four pillars of OOPS are -\n",
    "# Encapsulation\n",
    "# Abstraction\n",
    "# Inheritance\n",
    "# Polymorphism\n"
   ]
  },
  {
   "cell_type": "raw",
   "id": "537e0cb7-7997-4196-9e84-30dc26724c84",
   "metadata": {},
   "source": [
    "Q3"
   ]
  },
  {
   "cell_type": "code",
   "execution_count": 6,
   "id": "9c4389c5-4821-44ef-b218-630dd78b5341",
   "metadata": {},
   "outputs": [
    {
     "name": "stdout",
     "output_type": "stream",
     "text": [
      "Hi, I'm Tom and I'm 18 years old.\n",
      "Hi, I'm Jerry and I'm 8 years old.\n"
     ]
    }
   ],
   "source": [
    "#Answer\n",
    "# The __init__ function is a special methord in python that is used as a constructor to installize the attributes of an object\n",
    "# when an instance of the class is created.\n",
    "\n",
    "class person:\n",
    "    def __init__(self, name, age):\n",
    "        self.name = name\n",
    "        self.age = age\n",
    "        \n",
    "    def introduce(self):\n",
    "        print(f\"Hi, I'm {self.name} and I'm {self.age} years old.\")\n",
    "        \n",
    "        \n",
    "# Creating instance of the person class\n",
    "person1 = person(\"Tom\", 18)\n",
    "person2 = person(\"Jerry\", 8)\n",
    "\n",
    "# Calling introduce() function on each person object\n",
    "person1.introduce()\n",
    "person2.introduce()"
   ]
  },
  {
   "cell_type": "raw",
   "id": "84938df9-a942-4ca1-b878-edcc7f92e2b4",
   "metadata": {},
   "source": [
    "Q4"
   ]
  },
  {
   "cell_type": "code",
   "execution_count": 7,
   "id": "44a4a0c5-de33-4c38-9afd-ea205178f184",
   "metadata": {},
   "outputs": [],
   "source": [
    "#Answer\n",
    "# self represents the instance of the class. By using the “self” we can access the attributes and methods of the class in python.\n",
    "# It binds the attributes with the given arguments. The reason you need to use self. is because Python does not use the @ syntax \n",
    "# to refer to instance attributes"
   ]
  },
  {
   "cell_type": "code",
   "execution_count": null,
   "id": "08886a10-4168-405c-b860-a7f8e0549d8d",
   "metadata": {},
   "outputs": [],
   "source": []
  },
  {
   "cell_type": "code",
   "execution_count": 8,
   "id": "f03e0b1a-d211-47eb-a7d3-053f4646dcbe",
   "metadata": {},
   "outputs": [
    {
     "name": "stdout",
     "output_type": "stream",
     "text": [
      "This function is in parent class.\n",
      "This function is in child class\n"
     ]
    }
   ],
   "source": [
    "#Answer\n",
    "#Inheritance is a fundamental concept in object oriented programming where a new class can be derived from an existing class.\n",
    "# The new class inherits properties and behaviour from the existing class. allowing the code reuse and hierarchical organisation.\n",
    "\n",
    "#There are five types of inheritance -\n",
    "# 1. Single inheritance\n",
    "# 2. Multiple inheritance\n",
    "# 3. Multilevel inheritance\n",
    "# 4. Hierarchical inheritance\n",
    "# 5. Hybrid inheritance\n",
    "\n",
    "# single inheritance\n",
    "\n",
    "# Single inheritance enables a derived class to inherit properties from a single parent class, thus enabling code reusability\n",
    "# and the addition of new features to existing code\n",
    "\n",
    "class parent:\n",
    "    def func1(self):\n",
    "        print(\"This function is in parent class.\")\n",
    "\n",
    "class child(parent):\n",
    "    def func2(self):\n",
    "        print(\"This function is in child class\")\n",
    "        \n",
    "object = child()\n",
    "object.func1()\n",
    "object.func2()\n",
    "              "
   ]
  },
  {
   "cell_type": "code",
   "execution_count": 9,
   "id": "f1a53935-b062-4d8e-9379-c0f40229d772",
   "metadata": {},
   "outputs": [
    {
     "name": "stdout",
     "output_type": "stream",
     "text": [
      "Father : Nobita\n",
      "Mother : Sizuka\n"
     ]
    }
   ],
   "source": [
    "# Multiple inheritance\n",
    "\n",
    "# When a class can be derived from more than one base class this type of inheritance is called multiple inheritances.\n",
    "# In multiple inheritances, all the features of the base classes are inherited into the derived class. \n",
    "\n",
    "class Mother:\n",
    "    mothername = \"\"\n",
    "\n",
    "    def mother(self):\n",
    "        print(self.mothername)\n",
    "\n",
    "        \n",
    "class Father:\n",
    "    fathername = \"\"\n",
    "\n",
    "    def father(self):\n",
    "        print(self.fathername)\n",
    "\n",
    "\n",
    "class Son(Mother, Father):\n",
    "    def parents(self):\n",
    "        print(\"Father :\", self.fathername)\n",
    "        print(\"Mother :\", self.mothername)\n",
    "        \n",
    "s1 = Son()\n",
    "s1.fathername = \"Nobita\"\n",
    "s1.mothername = \"Sizuka\"\n",
    "\n",
    "\n",
    "s1.parents()\n",
    "        "
   ]
  },
  {
   "cell_type": "code",
   "execution_count": 10,
   "id": "13754e0e-0e12-462f-a27f-b8a84e11c742",
   "metadata": {},
   "outputs": [
    {
     "data": {
      "text/plain": [
       "'this is a method from class1'"
      ]
     },
     "execution_count": 10,
     "metadata": {},
     "output_type": "execute_result"
    }
   ],
   "source": [
    "# Multilevel Inheritance :\n",
    "\n",
    "# In multilevel inheritance, features of the base class and the derived class are further inherited into the new derived class.\n",
    "# This is similar to a relationship representing a child and a grandfather. \n",
    "\n",
    "\n",
    "\n",
    "class class1 :\n",
    "    \n",
    "    def test_class1(self) :\n",
    "        return 'this is a method from class1'\n",
    "    \n",
    "class class2(class1) :\n",
    "    \n",
    "    def test_class2(self) :\n",
    "        return 'this is a method from class2'\n",
    "    \n",
    "    \n",
    "class class3(class2) :\n",
    "    pass\n",
    "    \n",
    "om = class3()\n",
    "om.test_class1()"
   ]
  },
  {
   "cell_type": "code",
   "execution_count": 13,
   "id": "e38b69c7-c4ba-44fb-8bd3-b6da8f9c51d7",
   "metadata": {},
   "outputs": [
    {
     "name": "stdout",
     "output_type": "stream",
     "text": [
      "This function is in parent class.\n"
     ]
    }
   ],
   "source": [
    "# Hierarchical Inheritance: \n",
    "\n",
    "# When more than one derived class are created from a single base this type of inheritance is called hierarchical inheritance.\n",
    "# In this program, we have a parent (base) class and two child (derived) classes\n",
    "\n",
    "\n",
    "\n",
    "class Parent:\n",
    "    def func1(self):\n",
    "        print(\"This function is in parent class.\")\n",
    "\n",
    "\n",
    "class Child1(Parent):\n",
    "    def func2(self):\n",
    "        print(\"This function is in child 1.\")\n",
    "\n",
    "\n",
    "class Child2(Parent):\n",
    "    def func3(self):\n",
    "        print(\"This function is in child 2.\")\n",
    "        \n",
    "object1 = Child1()\n",
    "object2 = Child2()\n",
    "object1.func1()"
   ]
  },
  {
   "cell_type": "code",
   "execution_count": 14,
   "id": "39ed7557-6c23-47e9-b75b-bf0a0eb1b3ab",
   "metadata": {},
   "outputs": [
    {
     "name": "stdout",
     "output_type": "stream",
     "text": [
      "This function is in child 1.\n"
     ]
    }
   ],
   "source": [
    "object1.func2()"
   ]
  },
  {
   "cell_type": "code",
   "execution_count": 16,
   "id": "11d088f1-038d-4e97-94ba-c62d739f7cb8",
   "metadata": {},
   "outputs": [
    {
     "name": "stdout",
     "output_type": "stream",
     "text": [
      "This function is in parent class.\n"
     ]
    }
   ],
   "source": [
    "object2.func1()"
   ]
  },
  {
   "cell_type": "code",
   "execution_count": 17,
   "id": "df313372-6412-4fc4-83a9-80b97808d679",
   "metadata": {},
   "outputs": [
    {
     "name": "stdout",
     "output_type": "stream",
     "text": [
      "This function is in child 2.\n"
     ]
    }
   ],
   "source": [
    "object2.func3()"
   ]
  },
  {
   "cell_type": "code",
   "execution_count": 18,
   "id": "c890cf81-01f1-49b7-8eee-a7ad03473a23",
   "metadata": {},
   "outputs": [
    {
     "name": "stdout",
     "output_type": "stream",
     "text": [
      "This function is in school.\n"
     ]
    }
   ],
   "source": [
    "# Hybrid Inheritance: \n",
    "\n",
    "# Inheritance consisting of multiple types of inheritance is called hybrid inheritance.\n",
    "\n",
    "\n",
    "class School:\n",
    "    def func1(self):\n",
    "        print(\"This function is in school.\")\n",
    "\n",
    "\n",
    "class Student1(School):\n",
    "    def func2(self):\n",
    "        print(\"This function is in student 1. \")\n",
    "\n",
    "\n",
    "class Student2(School):\n",
    "    def func3(self):\n",
    "        print(\"This function is in student 2.\")\n",
    "\n",
    "\n",
    "class Student3(Student1, School):\n",
    "    def func4(self):\n",
    "        print(\"This function is in student 3.\")\n",
    "        \n",
    "        \n",
    "        \n",
    "object = Student3()\n",
    "object.func1()"
   ]
  },
  {
   "cell_type": "code",
   "execution_count": 19,
   "id": "50f9efac-dd8a-465a-9c7b-48bd900e88ee",
   "metadata": {},
   "outputs": [
    {
     "name": "stdout",
     "output_type": "stream",
     "text": [
      "This function is in student 1. \n"
     ]
    }
   ],
   "source": [
    "object.func2()"
   ]
  },
  {
   "cell_type": "code",
   "execution_count": 20,
   "id": "fcfda21a-5b9b-4dba-852b-d8d70a03709e",
   "metadata": {},
   "outputs": [
    {
     "name": "stdout",
     "output_type": "stream",
     "text": [
      "This function is in student 3.\n"
     ]
    }
   ],
   "source": [
    "object.func4()"
   ]
  },
  {
   "cell_type": "code",
   "execution_count": null,
   "id": "7eb9814a-e821-493c-b7f6-57fa3c9e0596",
   "metadata": {},
   "outputs": [],
   "source": []
  }
 ],
 "metadata": {
  "kernelspec": {
   "display_name": "Python 3 (ipykernel)",
   "language": "python",
   "name": "python3"
  },
  "language_info": {
   "codemirror_mode": {
    "name": "ipython",
    "version": 3
   },
   "file_extension": ".py",
   "mimetype": "text/x-python",
   "name": "python",
   "nbconvert_exporter": "python",
   "pygments_lexer": "ipython3",
   "version": "3.10.8"
  }
 },
 "nbformat": 4,
 "nbformat_minor": 5
}
